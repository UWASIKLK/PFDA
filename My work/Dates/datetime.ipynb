{
 "cells": [
  {
   "cell_type": "markdown",
   "metadata": {},
   "source": [
    "This will create a time object with 5 microseconds and 39 minutes"
   ]
  },
  {
   "cell_type": "code",
   "execution_count": null,
   "metadata": {},
   "outputs": [
    {
     "name": "stdout",
     "output_type": "stream",
     "text": [
      "00:39:00.000005\n"
     ]
    }
   ],
   "source": [
    "import datetime\n",
    "\n",
    "t = datetime.time(minute = 39, microsecond = 5)\n",
    "print (t)"
   ]
  },
  {
   "cell_type": "markdown",
   "metadata": {},
   "source": [
    "This will create a date object where the year is 2023, the month is 11 and the day is 5."
   ]
  },
  {
   "cell_type": "code",
   "execution_count": 8,
   "metadata": {},
   "outputs": [
    {
     "name": "stdout",
     "output_type": "stream",
     "text": [
      "2023-11-05\n"
     ]
    }
   ],
   "source": [
    "t =datetime.date(year=2023, month=11, day=5)\n",
    "print(t)"
   ]
  },
  {
   "cell_type": "markdown",
   "metadata": {},
   "source": [
    "This will created new object where the 5 weeks are added to the current day."
   ]
  },
  {
   "cell_type": "code",
   "execution_count": 9,
   "metadata": {},
   "outputs": [
    {
     "name": "stdout",
     "output_type": "stream",
     "text": [
      "2024-11-17\n",
      "2024-12-22\n"
     ]
    }
   ],
   "source": [
    "d = datetime.date.today()\n",
    "print (d)\n",
    "\n",
    "new_d = d + datetime.timedelta(weeks=5)\n",
    "print(new_d)"
   ]
  },
  {
   "cell_type": "markdown",
   "metadata": {},
   "source": [
    "This function will takes two arguments that are 8-digit integers of the form YYYYMMDD and returns the number of days between the twoo dates."
   ]
  },
  {
   "cell_type": "code",
   "execution_count": 15,
   "metadata": {},
   "outputs": [
    {
     "name": "stdout",
     "output_type": "stream",
     "text": [
      "The number of days between 20200617 and 20200619: 2\n",
      "The number of days between 20200619 and 20100219: 3773\n"
     ]
    }
   ],
   "source": [
    "\n",
    "def number_days_between(date1, date2):            \n",
    "    date_format = \"%Y%m%d\"\n",
    "    dt_date1 = datetime.datetime.strptime(str(date1), date_format)\n",
    "    dt_date2 = datetime.datetime.strptime(str(date2), date_format)\n",
    "    \n",
    "    if dt_date1 < dt_date2:\n",
    "        return (dt_date2-dt_date1).days\n",
    "    else:\n",
    "        return (dt_date1-dt_date2).days\n",
    "    \n",
    "date1 = 20200617\n",
    "date2 = 20200619\n",
    "print(f\"The number of days between {date1} and {date2}: {number_days_between(date1, date2)}\")\n",
    "\n",
    "date1 = 20200619\n",
    "date2 = 20100219\n",
    "print(f\"The number of days between {date1} and {date2}: {number_days_between(date1, date2)}\")\n"
   ]
  },
  {
   "cell_type": "markdown",
   "metadata": {},
   "source": [
    "On July 16, 1969, the huge, 363-feet tall Saturn V rocket launches on the Apollo 11 mission from Pad A, Launch Complex 39, Kennedy Space Center, at 9:32 a.m. EDT. Write a Python program the computes (from now) the number of:\n",
    "\n",
    "- Years\n",
    "- Months\n",
    "- Days\n",
    "- Hours\n",
    "- Minutes\n",
    "- Seconds\n",
    "\n",
    "since the launch."
   ]
  },
  {
   "cell_type": "code",
   "execution_count": 16,
   "metadata": {},
   "outputs": [
    {
     "name": "stdout",
     "output_type": "stream",
     "text": [
      "Number of Years:   55.0\n",
      "Number of Weeks:   2887.4285714285716\n",
      "Number of Days:    20212.0\n",
      "Number of Hours:   485109.0\n",
      "Number of Minutes: 29106599.0\n",
      "Number of Seconds: 1746395976.515716\n"
     ]
    }
   ],
   "source": [
    "current_date = datetime.datetime.now()\n",
    "launch_date = datetime.datetime(1969, 7, 16, 9, 32)\n",
    "duration = current_date - launch_date\n",
    "\n",
    "duration_in_s = duration.total_seconds()\n",
    "years = divmod(duration_in_s, 31536000)[0]  # Seconds in a year=365*24*60*60 = 31536000\n",
    "days  = divmod(duration_in_s, 86400)[0]     # Seconds in a day = 86400\n",
    "hours = divmod(duration_in_s, 3600)[0]      # Seconds in an hour = 3600\n",
    "minutes = divmod(duration_in_s, 60)[0]      # Seconds in a minute = 60\n",
    "\n",
    "print(f\"Number of Years:   {years}\")\n",
    "print(f\"Number of Weeks:   {days/7}\")\n",
    "print(f\"Number of Days:    {days}\")\n",
    "print(f\"Number of Hours:   {hours}\")\n",
    "print(f\"Number of Minutes: {minutes}\")\n",
    "print(f\"Number of Seconds: {duration_in_s}\")"
   ]
  },
  {
   "cell_type": "markdown",
   "metadata": {},
   "source": [
    "This function will adds number of years to a date object."
   ]
  },
  {
   "cell_type": "code",
   "execution_count": 32,
   "metadata": {},
   "outputs": [
    {
     "name": "stdout",
     "output_type": "stream",
     "text": [
      "2024-11-17 07:54:59.972105\n",
      "<function add_years at 0x000001C0BDB0C540>\n"
     ]
    }
   ],
   "source": [
    "my_date = datetime.datetime.now()\n",
    "print(my_date)\n",
    "num_years = 10\n",
    "\n",
    "def add_years (my_date, num_years):\n",
    "    return my_date.replace(year=my_date.year + num_years)\n",
    "\n",
    "print(add_years)"
   ]
  },
  {
   "cell_type": "code",
   "execution_count": null,
   "metadata": {},
   "outputs": [
    {
     "name": "stdout",
     "output_type": "stream",
     "text": [
      "2024-11-17\n",
      "<function add_Months at 0x000001C0BDE47B00>\n"
     ]
    }
   ],
   "source": [
    "my_date = datetime.datetime.now()\n",
    "print(my_date)\n",
    "num_years = 10\n",
    "num_months = 5\n",
    "\n",
    "def add_Months(my_date, num_months):\n",
    "    m = my_date.month + num_months\n",
    "    year  = m // 12\n",
    "    month = m % 12\n",
    "    if month == 0:\n",
    "       month = 12\n",
    "       year -= 1\n",
    "    try:\n",
    "        new_date = datetime.date(my_date.year+year, month, my_date.day)\n",
    "    except ValueError:\n",
    "        import calendar\n",
    "        # determine the total number of days in a new month\n",
    "        m1, d1 = calendar.monthrange(my_date.year+year, month)\n",
    "        new_date = datetime.date(my_date.year+year, month, d1)\n",
    "    return new_date\n",
    "\n",
    "print(add_Months)"
   ]
  },
  {
   "cell_type": "code",
   "execution_count": 36,
   "metadata": {},
   "outputs": [
    {
     "name": "stdout",
     "output_type": "stream",
     "text": [
      "20001125\n"
     ]
    },
    {
     "ename": "TypeError",
     "evalue": "'int' object is not callable",
     "output_type": "error",
     "traceback": [
      "\u001b[1;31m---------------------------------------------------------------------------\u001b[0m",
      "\u001b[1;31mTypeError\u001b[0m                                 Traceback (most recent call last)",
      "Cell \u001b[1;32mIn[36], line 28\u001b[0m\n\u001b[0;32m     24\u001b[0m     new_date \u001b[38;5;241m=\u001b[39m \u001b[38;5;241m10000\u001b[39m\u001b[38;5;241m*\u001b[39mcurY \u001b[38;5;241m+\u001b[39m \u001b[38;5;241m100\u001b[39m\u001b[38;5;241m*\u001b[39mcurM \u001b[38;5;241m+\u001b[39m curD\n\u001b[0;32m     26\u001b[0m     \u001b[38;5;28;01mreturn\u001b[39;00m new_date\n\u001b[1;32m---> 28\u001b[0m \u001b[38;5;28mprint\u001b[39m(increment_date(\u001b[38;5;241m20001231\u001b[39m, num_months\u001b[38;5;241m=\u001b[39m\u001b[38;5;241m-\u001b[39m\u001b[38;5;241m15\u001b[39m, num_days\u001b[38;5;241m=\u001b[39m\u001b[38;5;241m7\u001b[39m))\n",
      "Cell \u001b[1;32mIn[36], line 14\u001b[0m, in \u001b[0;36mincrement_date\u001b[1;34m(ref_date, num_years, num_months, num_days)\u001b[0m\n\u001b[0;32m     11\u001b[0m cur_date \u001b[38;5;241m=\u001b[39m datetime\u001b[38;5;241m.\u001b[39mdate(y, m, d)\n\u001b[0;32m     13\u001b[0m \u001b[38;5;66;03m# Increment the date\u001b[39;00m\n\u001b[1;32m---> 14\u001b[0m cur_date \u001b[38;5;241m=\u001b[39m add_years(cur_date, num_years)\n\u001b[0;32m     15\u001b[0m cur_date \u001b[38;5;241m=\u001b[39m add_months(cur_date, num_months)\n\u001b[0;32m     16\u001b[0m cur_date \u001b[38;5;241m=\u001b[39m add_days(cur_date, num_days)\n",
      "\u001b[1;31mTypeError\u001b[0m: 'int' object is not callable"
     ]
    }
   ],
   "source": [
    "ref_date = 20001125\n",
    "print(ref_date)\n",
    "\n",
    "def increment_date(ref_date, num_years=0, num_months=0, num_days=0):\n",
    "    # Extract the year, the month and day from ref_date\n",
    "    y = ref_date // 10000\n",
    "    m = (ref_date % 10000) // 100\n",
    "    d = ref_date % 100\n",
    "    \n",
    "    # Determine the current date object\n",
    "    cur_date = datetime.date(y, m, d)\n",
    "    \n",
    "    # Increment the date\n",
    "    cur_date = add_years(cur_date, num_years)\n",
    "    cur_date = add_months(cur_date, num_months)\n",
    "    cur_date = add_days(cur_date, num_days)\n",
    "    \n",
    "    # Extract the new year, month and day\n",
    "    curY = cur_date.year\n",
    "    curM = cur_date.month\n",
    "    curD = cur_date.day\n",
    "    \n",
    "    # Compute the new date in the format YYYYMMDD\n",
    "    new_date = 10000*curY + 100*curM + curD\n",
    "    \n",
    "    return new_date\n",
    "\n",
    "print(increment_date(20001231, num_months=-15, num_days=7))"
   ]
  },
  {
   "cell_type": "code",
   "execution_count": null,
   "metadata": {},
   "outputs": [],
   "source": []
  }
 ],
 "metadata": {
  "kernelspec": {
   "display_name": "base",
   "language": "python",
   "name": "python3"
  },
  "language_info": {
   "codemirror_mode": {
    "name": "ipython",
    "version": 3
   },
   "file_extension": ".py",
   "mimetype": "text/x-python",
   "name": "python",
   "nbconvert_exporter": "python",
   "pygments_lexer": "ipython3",
   "version": "3.11.5"
  }
 },
 "nbformat": 4,
 "nbformat_minor": 2
}
