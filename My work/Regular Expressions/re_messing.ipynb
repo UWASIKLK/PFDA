{
 "cells": [
  {
   "cell_type": "markdown",
   "metadata": {},
   "source": [
    "## Regular expressions in python\n",
    "\n",
    "Sample of the text"
   ]
  },
  {
   "cell_type": "code",
   "execution_count": 122,
   "metadata": {},
   "outputs": [],
   "source": [
    "sentence = \"As for households economic projection, policy interest rates have only partially passed through to the 29 per cent of households that have a mortgage, depending to a large degree on whether mortgage rates are fixed or variable.\"\n",
    "\n",
    "paragraph = \"\"\"Last week ECB staff published their latest projections for the euro area and this week we published our latest outlook for the Irish economy.  Let me give some reflections on both.\n",
    "At our meeting last week, my Governing Council colleagues and I decided to keep the three key ECB interest rates unchanged.  In the latest projections, inflation has been revised down, in particular for 2024 which mainly reflects lower energy prices.  \n",
    "The current data we have suggests that measures of underlying inflation have eased further, which gives us more confidence about returning to our 2 per cent medium-term target.  Against this, domestic inflation remains high, in part driven by strong gr\n",
    "The projection for economic growth in 2024 has been revised down to 0.6 per cent, with activity expected to remain weak in the near term. Growth is expected to pick up to 1.5 per cent in 2025 and 1.6 per cent in 2026. Given downward revisions to growth\n",
    "In light of these new projections, how do I see the interest rate path?\"\"\"\n",
    "\n",
    "website = \"https://www.shorelineleisure.ie/\""
   ]
  },
  {
   "cell_type": "code",
   "execution_count": 123,
   "metadata": {},
   "outputs": [],
   "source": [
    "import re"
   ]
  },
  {
   "cell_type": "code",
   "execution_count": 124,
   "metadata": {},
   "outputs": [
    {
     "data": {
      "text/plain": [
       "['As',\n",
       " 'for',\n",
       " 'households',\n",
       " 'economic',\n",
       " 'projection,',\n",
       " 'policy',\n",
       " 'interest',\n",
       " 'rates',\n",
       " 'have',\n",
       " 'only',\n",
       " 'partially',\n",
       " 'passed',\n",
       " 'through',\n",
       " 'to',\n",
       " 'the',\n",
       " '29',\n",
       " 'per',\n",
       " 'cent',\n",
       " 'of',\n",
       " 'households',\n",
       " 'that',\n",
       " 'have',\n",
       " 'a',\n",
       " 'mortgage,',\n",
       " 'depending',\n",
       " 'to',\n",
       " 'a',\n",
       " 'large',\n",
       " 'degree',\n",
       " 'on',\n",
       " 'whether',\n",
       " 'mortgage',\n",
       " 'rates',\n",
       " 'are',\n",
       " 'fixed',\n",
       " 'or',\n",
       " 'variable.']"
      ]
     },
     "execution_count": 124,
     "metadata": {},
     "output_type": "execute_result"
    }
   ],
   "source": [
    "sentence.split(\" \") # this will split sentence based on the spaces"
   ]
  },
  {
   "cell_type": "markdown",
   "metadata": {},
   "source": [
    "### To find the match characters we ca use:\n",
    "\n",
    "`findall(pattern, string)` - will returns a list of all matches\n",
    "\n",
    "`search(pattern, string)` - returns match object if any in the string\n",
    "\n",
    "`sub(pattern, replacement, string)` - replaces one or many matches"
   ]
  },
  {
   "cell_type": "code",
   "execution_count": 125,
   "metadata": {},
   "outputs": [
    {
     "data": {
      "text/plain": [
       "['economic']"
      ]
     },
     "execution_count": 125,
     "metadata": {},
     "output_type": "execute_result"
    }
   ],
   "source": [
    "pattern = \"economic\"  #this will find the word 'economic' with lowercase letter\n",
    "re.findall (pattern, sentence)"
   ]
  },
  {
   "cell_type": "code",
   "execution_count": 126,
   "metadata": {},
   "outputs": [
    {
     "data": {
      "text/plain": [
       "[]"
      ]
     },
     "execution_count": 126,
     "metadata": {},
     "output_type": "execute_result"
    }
   ],
   "source": [
    "pattern = \"Economic\" #this is searching for the word 'Economic' with capital letter\n",
    "re.findall (pattern, sentence)"
   ]
  },
  {
   "cell_type": "code",
   "execution_count": 127,
   "metadata": {},
   "outputs": [
    {
     "data": {
      "text/plain": [
       "['economic']"
      ]
     },
     "execution_count": 127,
     "metadata": {},
     "output_type": "execute_result"
    }
   ],
   "source": [
    "pattern = \"Economic\" #this will search for word 'economic' ignoring capital or lowercase letter\n",
    "re.findall (pattern, sentence,re.IGNORECASE)"
   ]
  },
  {
   "cell_type": "code",
   "execution_count": 128,
   "metadata": {},
   "outputs": [
    {
     "data": {
      "text/plain": [
       "<re.Match object; span=(706, 714), match='economic'>"
      ]
     },
     "execution_count": 128,
     "metadata": {},
     "output_type": "execute_result"
    }
   ],
   "source": [
    "pattern = \"economic\" #this will search for word 'economic' in paragraph and through out the position of the word\n",
    "re.search (pattern, paragraph)"
   ]
  },
  {
   "cell_type": "markdown",
   "metadata": {},
   "source": [
    "### Matching literal characters\n",
    "\n",
    "In order to match any literal characters ( *any character except `[\\^$.|?*+()`* ) use a `backslash \\`followed by the character."
   ]
  },
  {
   "cell_type": "code",
   "execution_count": 129,
   "metadata": {},
   "outputs": [
    {
     "data": {
      "text/plain": [
       "['2',\n",
       " '0',\n",
       " '2',\n",
       " '4',\n",
       " '2',\n",
       " '2',\n",
       " '0',\n",
       " '2',\n",
       " '4',\n",
       " '0',\n",
       " '6',\n",
       " '1',\n",
       " '5',\n",
       " '2',\n",
       " '0',\n",
       " '2',\n",
       " '5',\n",
       " '1',\n",
       " '6',\n",
       " '2',\n",
       " '0',\n",
       " '2',\n",
       " '6']"
      ]
     },
     "execution_count": 129,
     "metadata": {},
     "output_type": "execute_result"
    }
   ],
   "source": [
    "pattern = \"\\d\" #this will look for any numbers in the paragraph\n",
    "re.findall (pattern, paragraph)"
   ]
  },
  {
   "cell_type": "code",
   "execution_count": 130,
   "metadata": {},
   "outputs": [
    {
     "data": {
      "text/plain": [
       "['Last',\n",
       " 'week',\n",
       " 'ECB',\n",
       " 'staff',\n",
       " 'published',\n",
       " 'their',\n",
       " 'latest',\n",
       " 'projections',\n",
       " 'for',\n",
       " 'the',\n",
       " 'euro',\n",
       " 'area',\n",
       " 'and',\n",
       " 'this',\n",
       " 'week',\n",
       " 'we',\n",
       " 'published',\n",
       " 'our',\n",
       " 'latest',\n",
       " 'outlook',\n",
       " 'for',\n",
       " 'the',\n",
       " 'Irish',\n",
       " 'economy',\n",
       " 'Let',\n",
       " 'me',\n",
       " 'give',\n",
       " 'some',\n",
       " 'reflections',\n",
       " 'on',\n",
       " 'both',\n",
       " 'At',\n",
       " 'our',\n",
       " 'meeting',\n",
       " 'last',\n",
       " 'week',\n",
       " 'my',\n",
       " 'Governing',\n",
       " 'Council',\n",
       " 'colleagues',\n",
       " 'and',\n",
       " 'I',\n",
       " 'decided',\n",
       " 'to',\n",
       " 'keep',\n",
       " 'the',\n",
       " 'three',\n",
       " 'key',\n",
       " 'ECB',\n",
       " 'interest',\n",
       " 'rates',\n",
       " 'unchanged',\n",
       " 'In',\n",
       " 'the',\n",
       " 'latest',\n",
       " 'projections',\n",
       " 'inflation',\n",
       " 'has',\n",
       " 'been',\n",
       " 'revised',\n",
       " 'down',\n",
       " 'in',\n",
       " 'particular',\n",
       " 'for',\n",
       " '2024',\n",
       " 'which',\n",
       " 'mainly',\n",
       " 'reflects',\n",
       " 'lower',\n",
       " 'energy',\n",
       " 'prices',\n",
       " 'The',\n",
       " 'current',\n",
       " 'data',\n",
       " 'we',\n",
       " 'have',\n",
       " 'suggests',\n",
       " 'that',\n",
       " 'measures',\n",
       " 'of',\n",
       " 'underlying',\n",
       " 'inflation',\n",
       " 'have',\n",
       " 'eased',\n",
       " 'further',\n",
       " 'which',\n",
       " 'gives',\n",
       " 'us',\n",
       " 'more',\n",
       " 'confidence',\n",
       " 'about',\n",
       " 'returning',\n",
       " 'to',\n",
       " 'our',\n",
       " '2',\n",
       " 'per',\n",
       " 'cent',\n",
       " 'medium',\n",
       " 'term',\n",
       " 'target',\n",
       " 'Against',\n",
       " 'this',\n",
       " 'domestic',\n",
       " 'inflation',\n",
       " 'remains',\n",
       " 'high',\n",
       " 'in',\n",
       " 'part',\n",
       " 'driven',\n",
       " 'by',\n",
       " 'strong',\n",
       " 'gr',\n",
       " 'The',\n",
       " 'projection',\n",
       " 'for',\n",
       " 'economic',\n",
       " 'growth',\n",
       " 'in',\n",
       " '2024',\n",
       " 'has',\n",
       " 'been',\n",
       " 'revised',\n",
       " 'down',\n",
       " 'to',\n",
       " '0',\n",
       " '6',\n",
       " 'per',\n",
       " 'cent',\n",
       " 'with',\n",
       " 'activity',\n",
       " 'expected',\n",
       " 'to',\n",
       " 'remain',\n",
       " 'weak',\n",
       " 'in',\n",
       " 'the',\n",
       " 'near',\n",
       " 'term',\n",
       " 'Growth',\n",
       " 'is',\n",
       " 'expected',\n",
       " 'to',\n",
       " 'pick',\n",
       " 'up',\n",
       " 'to',\n",
       " '1',\n",
       " '5',\n",
       " 'per',\n",
       " 'cent',\n",
       " 'in',\n",
       " '2025',\n",
       " 'and',\n",
       " '1',\n",
       " '6',\n",
       " 'per',\n",
       " 'cent',\n",
       " 'in',\n",
       " '2026',\n",
       " 'Given',\n",
       " 'downward',\n",
       " 'revisions',\n",
       " 'to',\n",
       " 'growth',\n",
       " 'In',\n",
       " 'light',\n",
       " 'of',\n",
       " 'these',\n",
       " 'new',\n",
       " 'projections',\n",
       " 'how',\n",
       " 'do',\n",
       " 'I',\n",
       " 'see',\n",
       " 'the',\n",
       " 'interest',\n",
       " 'rate',\n",
       " 'path']"
      ]
     },
     "execution_count": 130,
     "metadata": {},
     "output_type": "execute_result"
    }
   ],
   "source": [
    "pattern = \"\\w+\" #this will look for any word character, excluding special characters\n",
    "re.findall(pattern, paragraph)"
   ]
  },
  {
   "cell_type": "code",
   "execution_count": 131,
   "metadata": {},
   "outputs": [
    {
     "data": {
      "text/plain": [
       "['Last week ECB staff published their latest projections for the euro area and this week we published our latest outlook for the Irish economy.  Let me give some reflections on both.\\nAt our meeting last week, my Governing Council colleagues and I decided to keep the three key ECB interest rates unchanged.  In the latest projections, inflation has been revised down, in particular for ',\n",
       " ' which mainly reflects lower energy prices.  \\nThe current data we have suggests that measures of underlying inflation have eased further, which gives us more confidence about returning to our ',\n",
       " ' per cent medium-term target.  Against this, domestic inflation remains high, in part driven by strong gr\\nThe projection for economic growth in ',\n",
       " ' has been revised down to ',\n",
       " '.',\n",
       " ' per cent, with activity expected to remain weak in the near term. Growth is expected to pick up to ',\n",
       " '.',\n",
       " ' per cent in ',\n",
       " ' and ',\n",
       " '.',\n",
       " ' per cent in ',\n",
       " '. Given downward revisions to growth\\nIn light of these new projections, how do I see the interest rate path?']"
      ]
     },
     "execution_count": 131,
     "metadata": {},
     "output_type": "execute_result"
    }
   ],
   "source": [
    "pattern = \"\\D+\" #this will look for any character other than digit\n",
    "re.findall(pattern, paragraph)"
   ]
  },
  {
   "cell_type": "code",
   "execution_count": 132,
   "metadata": {},
   "outputs": [
    {
     "name": "stdout",
     "output_type": "stream",
     "text": [
      "['hous']\n"
     ]
    }
   ],
   "source": [
    "string = \"householdseconomicprojection\"\n",
    "pattern =\"^hous\"                        #this will look for 'hous' on the begining of the string\n",
    "print(re.findall(pattern, string))"
   ]
  },
  {
   "cell_type": "code",
   "execution_count": 133,
   "metadata": {},
   "outputs": [
    {
     "name": "stdout",
     "output_type": "stream",
     "text": [
      "[]\n"
     ]
    }
   ],
   "source": [
    "pattern =\"hous$\"                      #this will look for 'hous' on the end of the string\n",
    "print(re.findall(pattern, string))    # will return empty [] as there is none"
   ]
  },
  {
   "cell_type": "code",
   "execution_count": 134,
   "metadata": {},
   "outputs": [
    {
     "name": "stdout",
     "output_type": "stream",
     "text": [
      "['c', 'c', 'c']\n"
     ]
    }
   ],
   "source": [
    "pattern =\"c\"                         #this will look for letter 'c' in the string\n",
    "print(re.findall(pattern, string))"
   ]
  },
  {
   "cell_type": "code",
   "execution_count": 135,
   "metadata": {},
   "outputs": [
    {
     "data": {
      "text/plain": [
       "['As',\n",
       " 'for',\n",
       " 'households',\n",
       " 'economic',\n",
       " 'projection',\n",
       " 'policy',\n",
       " 'interest',\n",
       " 'rates',\n",
       " 'have',\n",
       " 'only',\n",
       " 'partially',\n",
       " 'passed',\n",
       " 'through',\n",
       " 'to',\n",
       " 'the',\n",
       " '29',\n",
       " 'per',\n",
       " 'cent',\n",
       " 'of',\n",
       " 'households',\n",
       " 'that',\n",
       " 'have',\n",
       " 'a',\n",
       " 'mortgage',\n",
       " 'depending',\n",
       " 'to',\n",
       " 'a',\n",
       " 'large',\n",
       " 'degree',\n",
       " 'on',\n",
       " 'whether',\n",
       " 'mortgage',\n",
       " 'rates',\n",
       " 'are',\n",
       " 'fixed',\n",
       " 'or',\n",
       " 'variable']"
      ]
     },
     "execution_count": 135,
     "metadata": {},
     "output_type": "execute_result"
    }
   ],
   "source": [
    "re.findall(\"\\w{1,}\", sentence) #this will show more than 1 word from sentecen"
   ]
  },
  {
   "cell_type": "code",
   "execution_count": 136,
   "metadata": {},
   "outputs": [
    {
     "data": {
      "text/plain": [
       "['As',\n",
       " 'for',\n",
       " 'households',\n",
       " 'economic',\n",
       " 'projection',\n",
       " 'policy',\n",
       " 'interest',\n",
       " 'rates',\n",
       " 'have',\n",
       " 'only',\n",
       " 'partially',\n",
       " 'passed',\n",
       " 'through',\n",
       " 'to',\n",
       " 'the',\n",
       " '29',\n",
       " 'per',\n",
       " 'cent',\n",
       " 'of',\n",
       " 'households',\n",
       " 'that',\n",
       " 'have',\n",
       " 'a',\n",
       " 'mortgage',\n",
       " 'depending',\n",
       " 'to',\n",
       " 'a',\n",
       " 'large',\n",
       " 'degree',\n",
       " 'on',\n",
       " 'whether',\n",
       " 'mortgage',\n",
       " 'rates',\n",
       " 'are',\n",
       " 'fixed',\n",
       " 'or',\n",
       " 'variable']"
      ]
     },
     "execution_count": 136,
     "metadata": {},
     "output_type": "execute_result"
    }
   ],
   "source": [
    "re.findall(\"\\w+\", sentence) #this is the same output using different regular expression function"
   ]
  },
  {
   "cell_type": "code",
   "execution_count": 137,
   "metadata": {},
   "outputs": [
    {
     "name": "stdout",
     "output_type": "stream",
     "text": [
      "46 70 712 34 56\n",
      "                    311 345 678\n",
      "                    27 311 234 45 78\n",
      "                    44-7473-2345\n",
      "                    31-3115-4875\n",
      "                    46-8596-7842\n",
      "                    456.785.333  #IP address\n",
      "                    895.223.478  #IP address\n",
      "                    +65 9341 3004\n",
      "                    +65 9646 4785\n",
      "                    +65 8823 3412\n"
     ]
    }
   ],
   "source": [
    "phone_numbers = \"\"\"46 70 712 34 56\n",
    "                    311 345 678\n",
    "                    27 311 234 45 78\n",
    "                    44-7473-2345\n",
    "                    31-3115-4875\n",
    "                    46-8596-7842\n",
    "                    456.785.333  #IP address\n",
    "                    895.223.478  #IP address\n",
    "                    +65 9341 3004\n",
    "                    +65 9646 4785\n",
    "                    +65 8823 3412\"\"\"\n",
    "print(phone_numbers)"
   ]
  },
  {
   "cell_type": "code",
   "execution_count": 138,
   "metadata": {},
   "outputs": [
    {
     "data": {
      "text/plain": [
       "['44-7473-2345', '31-3115-4875', '46-8596-7842']"
      ]
     },
     "execution_count": 138,
     "metadata": {},
     "output_type": "execute_result"
    }
   ],
   "source": [
    "#this will print out the phone number which has a sequence 2 numbers '-'4 numbers '-' 4 numbers\n",
    "re.findall(\"\\d{2}\\-\\d{4}\\-\\d{4}\", phone_numbers)"
   ]
  },
  {
   "cell_type": "code",
   "execution_count": 139,
   "metadata": {},
   "outputs": [
    {
     "data": {
      "text/plain": [
       "['44-7473-2345',\n",
       " '31-3115-4875',\n",
       " '46-8596-7842',\n",
       " '+65 9341 3004',\n",
       " '+65 9646 4785',\n",
       " '+65 8823 3412']"
      ]
     },
     "execution_count": 139,
     "metadata": {},
     "output_type": "execute_result"
    }
   ],
   "source": [
    "#this will pring out the phone numbers which has a sequence '+'or 'nothing'2 numbers '-' or 'blank space' 4 numbers '-' or 'blank space' 4 numbers\n",
    "re.findall(\"\\+?\\d{2}[\\- ]\\d{4}[\\- ]\\d{4}\", phone_numbers)"
   ]
  },
  {
   "cell_type": "code",
   "execution_count": 140,
   "metadata": {},
   "outputs": [
    {
     "data": {
      "text/plain": [
       "['456.785.333', '895.223.478']"
      ]
     },
     "execution_count": 140,
     "metadata": {},
     "output_type": "execute_result"
    }
   ],
   "source": [
    "#this will retun only IP address numbers\n",
    "re.findall(\"\\d{3}\\.\\d{3}\\.\\d{3}\", phone_numbers)"
   ]
  },
  {
   "cell_type": "code",
   "execution_count": 141,
   "metadata": {},
   "outputs": [
    {
     "data": {
      "text/plain": [
       "['+65 9341 3004', '+65 9646 4785', '+65 8823 3412']"
      ]
     },
     "execution_count": 141,
     "metadata": {},
     "output_type": "execute_result"
    }
   ],
   "source": [
    "#this will show all number which starts with '+'\n",
    "string = \"\\+\\d{2}[\\- ]\\d{4}[\\- ]\\d{4}\"\n",
    "re.findall (string, phone_numbers)"
   ]
  },
  {
   "cell_type": "code",
   "execution_count": 144,
   "metadata": {},
   "outputs": [
    {
     "name": "stdout",
     "output_type": "stream",
     "text": [
      "46 70 712 34 56\n",
      "                    311 345 678\n",
      "                    27 311 234 45 78\n",
      "                    44-7473-2345\n",
      "                    31-3115-4875\n",
      "                    46-8596-7842\n",
      "                    456.785.333  #IP address\n",
      "                    895.223.478  #IP address\n",
      "                    0065 9341 3004\n",
      "                    0065 9646 4785\n",
      "                    0065 8823 3412\n",
      "46 70 712 34 56\n",
      "                    311 345 678\n",
      "                    27 311 234 45 78\n",
      "                    44-7473-2345\n",
      "                    31-3115-4875\n",
      "                    46-8596-7842\n",
      "                    456.785.333  #IP address\n",
      "                    895.223.478  #IP address\n",
      "                    +65 9341 3004\n",
      "                    +65 9646 4785\n",
      "                    +65 8823 3412\n"
     ]
    }
   ],
   "source": [
    "#this will replace the '+' with '00'\n",
    "pattern = \"\\+(\\d{2}[\\- ]\\d{4}[\\- ]\\d{4})\"\n",
    "replacement = \"00\\\\1\"\n",
    "print (re.sub(pattern, replacement, phone_numbers))\n",
    "print (phone_numbers)"
   ]
  }
 ],
 "metadata": {
  "kernelspec": {
   "display_name": "base",
   "language": "python",
   "name": "python3"
  },
  "language_info": {
   "codemirror_mode": {
    "name": "ipython",
    "version": 3
   },
   "file_extension": ".py",
   "mimetype": "text/x-python",
   "name": "python",
   "nbconvert_exporter": "python",
   "pygments_lexer": "ipython3",
   "version": "3.11.5"
  }
 },
 "nbformat": 4,
 "nbformat_minor": 2
}
