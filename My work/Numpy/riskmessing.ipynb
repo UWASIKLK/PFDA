{
 "cells": [
  {
   "cell_type": "code",
   "execution_count": 36,
   "metadata": {},
   "outputs": [
    {
     "name": "stdout",
     "output_type": "stream",
     "text": [
      "Attack(n_attackers=3, n_defenders=2)\n",
      "original list\n",
      " [[6 4 4]\n",
      " [1 1 4]\n",
      " [4 3 2]\n",
      " [1 1 4]\n",
      " [2 1 5]]\n",
      "Sorted list\n",
      " [[6 4 4]\n",
      " [4 1 1]\n",
      " [4 3 2]\n",
      " [4 1 1]\n",
      " [5 2 1]]\n",
      "original list\n",
      " [[5 2]\n",
      " [1 4]\n",
      " [3 2]\n",
      " [2 6]\n",
      " [1 3]]\n",
      "Sorted list\n",
      " [[5 2]\n",
      " [4 1]\n",
      " [3 2]\n",
      " [6 2]\n",
      " [3 1]]\n",
      "\n"
     ]
    },
    {
     "ename": "ValueError",
     "evalue": "operands could not be broadcast together with shapes (3,) (2,) ",
     "output_type": "error",
     "traceback": [
      "\u001b[1;31m---------------------------------------------------------------------------\u001b[0m",
      "\u001b[1;31mValueError\u001b[0m                                Traceback (most recent call last)",
      "Cell \u001b[1;32mIn[36], line 44\u001b[0m\n\u001b[0;32m     41\u001b[0m         attacker_loss \u001b[38;5;241m+\u001b[39m\u001b[38;5;241m=\u001b[39m\u001b[38;5;241m1\u001b[39m\n\u001b[0;32m     42\u001b[0m     \u001b[38;5;28;01mreturn\u001b[39;00m attacker_loss, defender_loss\n\u001b[1;32m---> 44\u001b[0m attacker_loss, defender_loss \u001b[38;5;241m=\u001b[39m \u001b[38;5;28mround\u001b[39m()\n\u001b[0;32m     46\u001b[0m \u001b[38;5;66;03m#attacker_list.append(attacker_loss)\u001b[39;00m\n\u001b[0;32m     47\u001b[0m \u001b[38;5;66;03m#[defender_list.append(defender_loss)\u001b[39;00m\n\u001b[0;32m     49\u001b[0m \u001b[38;5;28mprint\u001b[39m(\u001b[38;5;124mf\u001b[39m\u001b[38;5;124m\"\u001b[39m\u001b[38;5;124mattacker losses: \u001b[39m\u001b[38;5;132;01m{\u001b[39;00mattacker_loss\u001b[38;5;132;01m}\u001b[39;00m\u001b[38;5;124m,defender lossess: \u001b[39m\u001b[38;5;132;01m{\u001b[39;00mdefender_loss\u001b[38;5;132;01m}\u001b[39;00m\u001b[38;5;124m\"\u001b[39m)\n",
      "Cell \u001b[1;32mIn[36], line 38\u001b[0m, in \u001b[0;36mround\u001b[1;34m()\u001b[0m\n\u001b[0;32m     35\u001b[0m attacker_loss \u001b[38;5;241m=\u001b[39m \u001b[38;5;241m0\u001b[39m\n\u001b[0;32m     36\u001b[0m defender_loss \u001b[38;5;241m=\u001b[39m \u001b[38;5;241m0\u001b[39m\n\u001b[1;32m---> 38\u001b[0m \u001b[38;5;28;01mif\u001b[39;00m attacker_sorted [\u001b[38;5;241m0\u001b[39m] \u001b[38;5;241m>\u001b[39m defender_sorted [\u001b[38;5;241m0\u001b[39m]:\n\u001b[0;32m     39\u001b[0m     defender_loss \u001b[38;5;241m+\u001b[39m\u001b[38;5;241m=\u001b[39m \u001b[38;5;241m1\u001b[39m\n\u001b[0;32m     40\u001b[0m \u001b[38;5;28;01melse\u001b[39;00m:\n",
      "\u001b[1;31mValueError\u001b[0m: operands could not be broadcast together with shapes (3,) (2,) "
     ]
    }
   ],
   "source": [
    "from typing import NamedTuple\n",
    "import numpy as np\n",
    "import pandas as pd\n",
    "import matplotlib.pyplot as plt\n",
    "\n",
    "n_repeats = 5\n",
    "class Attack(NamedTuple):\n",
    "    n_attackers: int\n",
    "    n_defenders: int\n",
    "options = [Attack(3,2)]\n",
    "\n",
    "rng = np.random.default_rng()\n",
    "for option in options:\n",
    "    print(option)\n",
    "    attacker = rng.integers(\n",
    "        1, 7, size=(n_repeats, option.n_attackers)\n",
    "    )\n",
    "    print(\"original list\\n\",attacker)\n",
    "    attacker_sorted = np.sort(attacker, axis = 1)[:, ::-1]\n",
    "    print(\"Sorted list\\n\", attacker_sorted)\n",
    "    \n",
    "    defender = rng.integers(\n",
    "        1, 7, size=(n_repeats, option.n_defenders)\n",
    "    )\n",
    "    print(\"original list\\n\",defender)\n",
    "    defender_sorted = np.sort(defender, axis = 1)[:, ::-1]\n",
    "    print(\"Sorted list\\n\", defender_sorted)\n",
    "    print()\n",
    "\n",
    "attacker_list = []\n",
    "defender_list = []\n",
    "\n",
    "def round ():\n",
    " \n",
    "    attacker_loss = 0\n",
    "    defender_loss = 0\n",
    "\n",
    "    if attacker_sorted [0] > defender_sorted [0]:\n",
    "        defender_loss += 1\n",
    "    else:\n",
    "        attacker_loss +=1\n",
    "    return attacker_loss, defender_loss\n",
    "\n",
    "attacker_loss, defender_loss = round()\n",
    "\n",
    "#attacker_list.append(attacker_loss)\n",
    "#[defender_list.append(defender_loss)\n",
    "\n",
    "print(f\"attacker losses: {attacker_loss},defender lossess: {defender_loss}\")\n"
   ]
  },
  {
   "cell_type": "code",
   "execution_count": null,
   "metadata": {},
   "outputs": [],
   "source": []
  }
 ],
 "metadata": {
  "kernelspec": {
   "display_name": "base",
   "language": "python",
   "name": "python3"
  },
  "language_info": {
   "codemirror_mode": {
    "name": "ipython",
    "version": 3
   },
   "file_extension": ".py",
   "mimetype": "text/x-python",
   "name": "python",
   "nbconvert_exporter": "python",
   "pygments_lexer": "ipython3",
   "version": "3.11.5"
  }
 },
 "nbformat": 4,
 "nbformat_minor": 2
}
